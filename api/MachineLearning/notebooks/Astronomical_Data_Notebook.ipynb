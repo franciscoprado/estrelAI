{
  "cells": [
    {
      "cell_type": "code",
      "execution_count": null,
      "metadata": {
        "_cell_guid": "b1076dfc-b9ad-4769-8c92-a6c4dae69d19",
        "_uuid": "8f2839f25d086af736a60e9eeb907d3b93b6e0e5",
        "execution": {
          "iopub.execute_input": "2024-08-23T23:25:47.319862Z",
          "iopub.status.busy": "2024-08-23T23:25:47.319258Z",
          "iopub.status.idle": "2024-08-23T23:25:47.331374Z",
          "shell.execute_reply": "2024-08-23T23:25:47.3296Z",
          "shell.execute_reply.started": "2024-08-23T23:25:47.3198Z"
        },
        "id": "kaJ6jyPVkKm9",
        "trusted": true
      },
      "outputs": [],
      "source": [
        "# configuração para não exibir os warnings\n",
        "import warnings\n",
        "warnings.filterwarnings(\"ignore\")\n",
        "\n",
        "# Imports necessários\n",
        "import pandas as pd\n",
        "import numpy as np\n",
        "import pickle\n",
        "import matplotlib.pyplot as plt\n",
        "from sklearn.preprocessing import StandardScaler\n",
        "from sklearn.preprocessing import MinMaxScaler\n",
        "from sklearn.model_selection import train_test_split\n",
        "from sklearn.model_selection import KFold\n",
        "from sklearn.model_selection import StratifiedKFold\n",
        "from sklearn.model_selection import cross_val_score\n",
        "from sklearn.model_selection import GridSearchCV\n",
        "from sklearn.metrics import accuracy_score\n",
        "from sklearn.pipeline import Pipeline\n",
        "from sklearn.tree import DecisionTreeClassifier\n",
        "from sklearn.neighbors import KNeighborsClassifier\n",
        "from sklearn.naive_bayes import GaussianNB\n",
        "from sklearn.svm import SVC"
      ]
    },
    {
      "cell_type": "code",
      "execution_count": null,
      "metadata": {
        "colab": {
          "base_uri": "https://localhost:8080/",
          "height": 206
        },
        "execution": {
          "iopub.execute_input": "2024-08-23T23:25:47.334359Z",
          "iopub.status.busy": "2024-08-23T23:25:47.333812Z",
          "iopub.status.idle": "2024-08-23T23:25:47.36177Z",
          "shell.execute_reply": "2024-08-23T23:25:47.360395Z",
          "shell.execute_reply.started": "2024-08-23T23:25:47.334305Z"
        },
        "id": "s0HcNxW8kKm-",
        "outputId": "235026ce-621e-4b2e-ece3-c5d39f992f58",
        "trusted": true
      },
      "outputs": [],
      "source": [
        "# Lê o arquivo\n",
        "dataset = pd.read_csv('https://raw.githubusercontent.com/franciscoprado/estrelAI/main/api/MachineLearning/data/cleaned_star_data.csv', delimiter=',')\n",
        "\n",
        "# Mostra as primeiras linhas do dataset\n",
        "dataset.head()"
      ]
    },
    {
      "cell_type": "code",
      "execution_count": null,
      "metadata": {
        "execution": {
          "iopub.execute_input": "2024-08-23T23:25:47.363739Z",
          "iopub.status.busy": "2024-08-23T23:25:47.363343Z",
          "iopub.status.idle": "2024-08-23T23:25:47.37529Z",
          "shell.execute_reply": "2024-08-23T23:25:47.373968Z",
          "shell.execute_reply.started": "2024-08-23T23:25:47.363691Z"
        },
        "id": "9z5LBCNFkKm-",
        "trusted": true
      },
      "outputs": [],
      "source": [
        "test_size = 0.20 # tamanho do conjunto de teste\n",
        "seed = 7 # semente aleatória\n",
        "\n",
        "# Separação em conjuntos de treino e teste\n",
        "array = dataset.values\n",
        "X = array[:,0:4]\n",
        "y = array[:,4]\n",
        "y = y.astype('float')\n",
        "\n",
        "X_train, X_test, y_train, y_test = train_test_split(X, y,\n",
        "    test_size=test_size, shuffle=True, random_state=seed, stratify=y) # holdout com estratificação\n",
        "\n",
        "# Parâmetros e partições da validação cruzada\n",
        "scoring = 'accuracy'\n",
        "num_particoes = 10\n",
        "kfold = StratifiedKFold(n_splits=num_particoes, shuffle=True, random_state=seed) # validação cruzada com estratificação"
      ]
    },
    {
      "cell_type": "code",
      "execution_count": null,
      "metadata": {
        "colab": {
          "base_uri": "https://localhost:8080/",
          "height": 999
        },
        "execution": {
          "iopub.execute_input": "2024-08-23T23:25:47.379025Z",
          "iopub.status.busy": "2024-08-23T23:25:47.378555Z",
          "iopub.status.idle": "2024-08-23T23:25:47.850332Z",
          "shell.execute_reply": "2024-08-23T23:25:47.848935Z",
          "shell.execute_reply.started": "2024-08-23T23:25:47.378982Z"
        },
        "id": "tKy86WsNkKm_",
        "outputId": "d1cd355d-0f0b-4cdd-c16e-e26d2be697a2",
        "trusted": true
      },
      "outputs": [],
      "source": [
        "np.random.seed(7) # definindo uma semente global\n",
        "\n",
        "# Lista que armazenará os modelos\n",
        "models = []\n",
        "\n",
        "# Criando os modelos e adicionando-os na lista de modelos\n",
        "models.append(('KNN', KNeighborsClassifier()))\n",
        "models.append(('CART', DecisionTreeClassifier()))\n",
        "models.append(('NB', GaussianNB()))\n",
        "models.append(('SVM', SVC()))\n",
        "\n",
        "# Listas para armazenar os resultados\n",
        "results = []\n",
        "names = []\n",
        "\n",
        "# Avaliação dos modelos\n",
        "for name, model in models:\n",
        "    cv_results = cross_val_score(model, X_train, y_train, cv=kfold, scoring=scoring)\n",
        "    results.append(cv_results)\n",
        "    names.append(name)\n",
        "    msg = \"%s: %f (%f)\" % (name, cv_results.mean(), cv_results.std())\n",
        "    print(msg)\n",
        "\n",
        "# Boxplot de comparação dos modelos\n",
        "fig = plt.figure(figsize=(15,10))\n",
        "fig.suptitle('Comparação dos Modelos')\n",
        "ax = fig.add_subplot(111)\n",
        "plt.boxplot(results)\n",
        "ax.set_xticklabels(names)\n",
        "plt.show()"
      ]
    },
    {
      "cell_type": "code",
      "execution_count": null,
      "metadata": {
        "colab": {
          "base_uri": "https://localhost:8080/",
          "height": 791
        },
        "execution": {
          "iopub.execute_input": "2024-08-23T23:25:47.853069Z",
          "iopub.status.busy": "2024-08-23T23:25:47.852539Z",
          "iopub.status.idle": "2024-08-23T23:25:48.846643Z",
          "shell.execute_reply": "2024-08-23T23:25:48.845241Z",
          "shell.execute_reply.started": "2024-08-23T23:25:47.852977Z"
        },
        "id": "ykGVOQ5wkKm_",
        "outputId": "0504ab12-0c9d-4c0b-d3d1-ffa63457fd97",
        "trusted": true
      },
      "outputs": [],
      "source": [
        "np.random.seed(7) # definindo uma semente global para este bloco\n",
        "\n",
        "# Listas para armazenar os armazenar os pipelines e os resultados para todas as visões do dataset\n",
        "pipelines = []\n",
        "results = []\n",
        "names = []\n",
        "\n",
        "\n",
        "# Criando os elementos do pipeline\n",
        "\n",
        "# Algoritmos que serão utilizados\n",
        "knn = ('KNN', KNeighborsClassifier())\n",
        "cart = ('CART', DecisionTreeClassifier())\n",
        "naive_bayes = ('NB', GaussianNB())\n",
        "svm = ('SVM', SVC())\n",
        "\n",
        "# Transformações que serão utilizadas\n",
        "standard_scaler = ('StandardScaler', StandardScaler())\n",
        "min_max_scaler = ('MinMaxScaler', MinMaxScaler())\n",
        "\n",
        "\n",
        "# Montando os pipelines\n",
        "\n",
        "# Dataset original\n",
        "pipelines.append(('KNN-orig', Pipeline([knn])))\n",
        "pipelines.append(('CART-orig', Pipeline([cart])))\n",
        "pipelines.append(('NB-orig', Pipeline([naive_bayes])))\n",
        "pipelines.append(('SVM-orig', Pipeline([svm])))\n",
        "\n",
        "# Dataset Padronizado\n",
        "pipelines.append(('KNN-padr', Pipeline([standard_scaler, knn])))\n",
        "pipelines.append(('CART-padr', Pipeline([standard_scaler, cart])))\n",
        "pipelines.append(('NB-padr', Pipeline([standard_scaler, naive_bayes])))\n",
        "pipelines.append(('SVM-padr', Pipeline([standard_scaler, svm])))\n",
        "\n",
        "# Dataset Normalizado\n",
        "pipelines.append(('KNN-norm', Pipeline([min_max_scaler, knn])))\n",
        "pipelines.append(('CART-norm', Pipeline([min_max_scaler, cart])))\n",
        "pipelines.append(('NB-norm', Pipeline([min_max_scaler, naive_bayes])))\n",
        "pipelines.append(('SVM-norm', Pipeline([min_max_scaler, svm])))\n",
        "\n",
        "# Executando os pipelines\n",
        "for name, model in pipelines:\n",
        "    cv_results = cross_val_score(model, X_train, y_train, cv=kfold, scoring=scoring)\n",
        "    results.append(cv_results)\n",
        "    names.append(name)\n",
        "    msg = \"%s: %.3f (%.3f)\" % (name, cv_results.mean(), cv_results.std()) # formatando para 3 casas decimais\n",
        "    print(msg)\n",
        "\n",
        "# Boxplot de comparação dos modelos\n",
        "fig = plt.figure(figsize=(25,6))\n",
        "fig.suptitle('Comparação dos Modelos - Dataset orginal, padronizado e normalizado')\n",
        "ax = fig.add_subplot(111)\n",
        "plt.boxplot(results)\n",
        "ax.set_xticklabels(names, rotation=90)\n",
        "plt.show()"
      ]
    },
    {
      "cell_type": "code",
      "execution_count": null,
      "metadata": {
        "execution": {
          "iopub.execute_input": "2024-08-23T23:25:48.848766Z",
          "iopub.status.busy": "2024-08-23T23:25:48.848368Z",
          "iopub.status.idle": "2024-08-23T23:25:48.867944Z",
          "shell.execute_reply": "2024-08-23T23:25:48.866553Z",
          "shell.execute_reply.started": "2024-08-23T23:25:48.848725Z"
        },
        "id": "i3doE0RZkKm_",
        "trusted": true
      },
      "outputs": [],
      "source": [
        "# Tuning do CART\n",
        "\n",
        "np.random.seed(7)  # definindo uma semente global para este bloco\n",
        "\n",
        "pipelines = []\n",
        "pipeline = None\n",
        "best_accuracy = 0.0\n",
        "\n",
        "# Definindo os componentes do pipeline\n",
        "cart = ('CART', DecisionTreeClassifier())\n",
        "standard_scaler = ('StandardScaler', StandardScaler())\n",
        "min_max_scaler = ('MinMaxScaler', MinMaxScaler())\n",
        "\n",
        "pipelines.append(('cart-orig', Pipeline(steps=[cart])))\n",
        "pipelines.append(('cart-padr', Pipeline(steps=[standard_scaler, cart])))\n",
        "pipelines.append(('cart-norm', Pipeline(steps=[min_max_scaler, cart])))\n",
        "\n",
        "param_grid = {\n",
        "    'max_depth': [5, 10, 20,],\n",
        "    'min_samples_split': [20, 40, 60, 80],\n",
        "    'min_impurity_decrease': [0.0001, 0.0005, 0.001, 0.005, 0.01]\n",
        "}\n",
        "\n",
        "# Prepara e executa o fit\n",
        "for name, model in pipelines:\n",
        "    grid_search = GridSearchCV(DecisionTreeClassifier(\n",
        "        random_state=1), param_grid, cv=5, n_jobs=1)\n",
        "    grid_result = grid_search.fit(X_train, y_train)\n",
        "    print(\"Melhor: %f com %s\" %\n",
        "          (grid_result.best_score_, grid_result.best_params_))\n",
        "    model.fit(X_train, y_train)\n",
        "\n",
        "    if grid_search.best_score_ >= best_accuracy:\n",
        "        best_accuracy = grid_search.best_score_\n",
        "        pipeline = model"
      ]
    },
    {
      "cell_type": "code",
      "execution_count": null,
      "metadata": {
        "colab": {
          "base_uri": "https://localhost:8080/"
        },
        "execution": {
          "iopub.execute_input": "2024-08-23T23:25:48.871165Z",
          "iopub.status.busy": "2024-08-23T23:25:48.8703Z",
          "iopub.status.idle": "2024-08-23T23:25:48.883846Z",
          "shell.execute_reply": "2024-08-23T23:25:48.882605Z",
          "shell.execute_reply.started": "2024-08-23T23:25:48.871106Z"
        },
        "id": "egtLtBr1kKnA",
        "outputId": "ea9e5a0b-1a38-4980-c784-734c0d6350b2",
        "trusted": true
      },
      "outputs": [],
      "source": [
        "# Avaliação do modelo com o conjunto de testes\n",
        "\n",
        "# Preparação do modelo\n",
        "scaler = StandardScaler().fit(X_train) # ajuste do scaler com o conjunto de treino\n",
        "rescaledX = scaler.transform(X_train) # aplicação da padronização no conjunto de treino\n",
        "model = DecisionTreeClassifier()\n",
        "model.fit(rescaledX, y_train)\n",
        "\n",
        "# Estimativa da acurácia no conjunto de teste\n",
        "rescaledTestX = scaler.transform(X_test) # aplicação da padronização no conjunto de teste\n",
        "predictions = model.predict(rescaledTestX)\n",
        "print(accuracy_score(y_test, predictions))"
      ]
    },
    {
      "cell_type": "code",
      "execution_count": null,
      "metadata": {},
      "outputs": [],
      "source": [
        "# Salvando o modelo\n",
        "model_filename = 'cart_estrelas_classifier.pkl'\n",
        "with open(\"../models/\"+model_filename, 'wb') as file:\n",
        "    pickle.dump(model, file)\n",
        "\n",
        "# Salvando o scaler\n",
        "scaler_filename = 'minmax_scaler_estrelas.pkl'\n",
        "with open(\"../scalers/\"+scaler_filename, 'wb') as file:\n",
        "    pickle.dump(scaler, file)\n",
        "    \n",
        "# Salvando o pipeline\n",
        "pipeline_filename = 'cart_estrelas_pipeline.pkl'\n",
        "with open(\"../pipelines/\"+pipeline_filename, 'wb') as file:\n",
        "    pickle.dump(pipeline, file)\n",
        "    \n",
        "# Salvando X_test e y_test\n",
        "X_test_df = pd.DataFrame(X_test, columns=dataset.columns[:-3])\n",
        "y_test_df = pd.DataFrame(y_test, columns=[dataset.columns[-3]])\n",
        "X_test_df.to_csv(\"../data/X_test_dataset_estrelas.csv\", index=False)\n",
        "y_test_df.to_csv(\"../data/y_test_dataset_estrelas.csv\", index=False)"
      ]
    },
    {
      "cell_type": "code",
      "execution_count": null,
      "metadata": {
        "colab": {
          "base_uri": "https://localhost:8080/",
          "height": 75
        },
        "execution": {
          "iopub.execute_input": "2024-08-23T23:25:48.887853Z",
          "iopub.status.busy": "2024-08-23T23:25:48.887325Z",
          "iopub.status.idle": "2024-08-23T23:25:48.900913Z",
          "shell.execute_reply": "2024-08-23T23:25:48.89977Z",
          "shell.execute_reply.started": "2024-08-23T23:25:48.88781Z"
        },
        "id": "rjJi_nt_kKnA",
        "outputId": "f2eaf4fc-b2cd-4fd8-e178-a31654fb6e78",
        "trusted": true
      },
      "outputs": [],
      "source": [
        "scaler = StandardScaler().fit(X) # ajuste do scaler com TODO o dataset\n",
        "rescaledX = scaler.transform(X) # aplicação da padronização com TODO o dataset\n",
        "model.fit(rescaledX, y)"
      ]
    },
    {
      "cell_type": "code",
      "execution_count": null,
      "metadata": {
        "colab": {
          "base_uri": "https://localhost:8080/"
        },
        "execution": {
          "iopub.execute_input": "2024-08-23T23:25:48.903011Z",
          "iopub.status.busy": "2024-08-23T23:25:48.902626Z",
          "iopub.status.idle": "2024-08-23T23:25:48.91464Z",
          "shell.execute_reply": "2024-08-23T23:25:48.913498Z",
          "shell.execute_reply.started": "2024-08-23T23:25:48.902971Z"
        },
        "id": "i_V80zMskKnA",
        "outputId": "fd55d4e5-0bb7-4292-dd60-d0af9d37e31f",
        "trusted": true
      },
      "outputs": [],
      "source": [
        "# Novos dados - não sabemos a classe!\n",
        "data = {'temperature':  [3042, 3441, 3535],\n",
        "        'luminosity':  [0.0005, 39, 195000],\n",
        "        'radius':  [0.1542, 351, 1546],\n",
        "        'absolute_magnitude':  [16.6, 11.18, 13.21],\n",
        "        }\n",
        "\n",
        "atributos = ['temperature',\n",
        "             'luminosity',\n",
        "             'radius',\n",
        "             'absolute_magnitude']\n",
        "entrada = pd.DataFrame(data, columns=atributos)\n",
        "\n",
        "array_entrada = entrada.values\n",
        "X_entrada = array_entrada[:, 0:4].astype(float)\n",
        "\n",
        "# Padronização nos dados de entrada usando o scaler utilizado em X\n",
        "rescaledEntradaX = scaler.transform(X_entrada)\n",
        "print(rescaledEntradaX)"
      ]
    },
    {
      "cell_type": "code",
      "execution_count": null,
      "metadata": {
        "colab": {
          "base_uri": "https://localhost:8080/"
        },
        "execution": {
          "iopub.execute_input": "2024-08-23T23:25:48.917181Z",
          "iopub.status.busy": "2024-08-23T23:25:48.916358Z",
          "iopub.status.idle": "2024-08-23T23:25:48.928772Z",
          "shell.execute_reply": "2024-08-23T23:25:48.927414Z",
          "shell.execute_reply.started": "2024-08-23T23:25:48.917124Z"
        },
        "id": "Y76ysTxTkKnB",
        "outputId": "0a61dc03-37de-44e2-bfa3-f261e71bf4d3",
        "trusted": true
      },
      "outputs": [],
      "source": [
        "# Predição de classes dos dados de entrada\n",
        "saidas = model.predict(rescaledEntradaX)\n",
        "print(saidas)"
      ]
    }
  ],
  "metadata": {
    "colab": {
      "provenance": []
    },
    "kaggle": {
      "accelerator": "none",
      "dataSources": [
        {
          "datasetId": 5536083,
          "sourceId": 9163054,
          "sourceType": "datasetVersion"
        },
        {
          "datasetId": 5580780,
          "sourceId": 9227250,
          "sourceType": "datasetVersion"
        }
      ],
      "dockerImageVersionId": 30761,
      "isGpuEnabled": false,
      "isInternetEnabled": false,
      "language": "python",
      "sourceType": "notebook"
    },
    "kernelspec": {
      "display_name": "Python 3",
      "language": "python",
      "name": "python3"
    },
    "language_info": {
      "codemirror_mode": {
        "name": "ipython",
        "version": 3
      },
      "file_extension": ".py",
      "mimetype": "text/x-python",
      "name": "python",
      "nbconvert_exporter": "python",
      "pygments_lexer": "ipython3",
      "version": "3.12.5"
    }
  },
  "nbformat": 4,
  "nbformat_minor": 0
}
